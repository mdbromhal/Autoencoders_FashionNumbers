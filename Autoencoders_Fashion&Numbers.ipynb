{
  "cells": [
    {
      "cell_type": "markdown",
      "metadata": {
        "id": "CMlLRBNsK7AI"
      },
      "source": [
        "#Autoencoders: Generating Fashion & Numbers from MNIST datasets\n",
        "- Comprises of encoder & decoder\n",
        "- Learns latent representations of data\n",
        "- Used because it learns without supervision\n",
        "  - Good for dimentionality reduction and extrapolating from incomplete/unbalanced data\n",
        "  - There's a lot of unbalanced data in AI, so Autoencoders are really useful!\n",
        "\n",
        "# MNIST Fashion dataset"
      ]
    },
    {
      "cell_type": "code",
      "execution_count": null,
      "metadata": {
        "id": "dspk4sbLVlJ3"
      },
      "outputs": [],
      "source": [
        "# Importing necessary packages\n",
        "import tensorflow as tf\n",
        "import matplotlib.pyplot as plt\n",
        "import numpy as np"
      ]
    },
    {
      "cell_type": "code",
      "execution_count": null,
      "metadata": {
        "id": "atziaBi1V6p5"
      },
      "outputs": [],
      "source": [
        "# Building the autoencoder\n",
        "tf.random.set_seed(42)\n",
        "\n",
        "encoder = tf.keras.Sequential([tf.keras.layers.Dense(2)])\n",
        "decoder = tf.keras.Sequential([tf.keras.layers.Dense(3)])\n",
        "autoencoder = tf.keras.Sequential([encoder, decoder])\n",
        "\n",
        "optimizer = tf.keras.optimizers.SGD(learning_rate=0.5)\n",
        "autoencoder.compile(loss='mse', optimizer=optimizer)"
      ]
    },
    {
      "cell_type": "code",
      "execution_count": null,
      "metadata": {
        "colab": {
          "base_uri": "https://localhost:8080/"
        },
        "id": "2odcnG2_WxV-",
        "outputId": "8157f9bc-8a58-4503-fc49-d24483325028"
      },
      "outputs": [
        {
          "name": "stdout",
          "output_type": "stream",
          "text": [
            "Downloading data from https://storage.googleapis.com/tensorflow/tf-keras-datasets/train-labels-idx1-ubyte.gz\n",
            "29515/29515 [==============================] - 0s 0us/step\n",
            "Downloading data from https://storage.googleapis.com/tensorflow/tf-keras-datasets/train-images-idx3-ubyte.gz\n",
            "26421880/26421880 [==============================] - 1s 0us/step\n",
            "Downloading data from https://storage.googleapis.com/tensorflow/tf-keras-datasets/t10k-labels-idx1-ubyte.gz\n",
            "5148/5148 [==============================] - 0s 0us/step\n",
            "Downloading data from https://storage.googleapis.com/tensorflow/tf-keras-datasets/t10k-images-idx3-ubyte.gz\n",
            "4422102/4422102 [==============================] - 0s 0us/step\n"
          ]
        }
      ],
      "source": [
        "# Load Fashion MNIST dataset\n",
        "fashion = tf.keras.datasets.fashion_mnist.load_data()\n",
        "\n",
        "# Splitting and scaling the dataset\n",
        "(X_train_full, y_train_full), (X_test, y_test) = fashion\n",
        "\n",
        "X_train_full = X_train_full.astype(np.float32) / 255\n",
        "X_test = X_test.astype(np.float32) / 255 # Why 255??\n",
        "\n",
        "X_train, X_valid = X_train_full[:-5000], X_train_full[-5000:]\n",
        "y_train, y_valid = y_train_full[:-5000], y_train_full[-5000:]"
      ]
    },
    {
      "cell_type": "markdown",
      "metadata": {
        "id": "g66AZEMFLAq1"
      },
      "source": [
        "##Stacked Autoencoder"
      ]
    },
    {
      "cell_type": "code",
      "execution_count": null,
      "metadata": {
        "colab": {
          "base_uri": "https://localhost:8080/"
        },
        "id": "Ig5rvR56We1N",
        "outputId": "2651da06-3476-4de4-bed3-843beed152e7"
      },
      "outputs": [
        {
          "name": "stdout",
          "output_type": "stream",
          "text": [
            "Epoch 1/20\n",
            "1719/1719 [==============================] - 12s 6ms/step - loss: 0.0234 - val_loss: 0.0184\n",
            "Epoch 2/20\n",
            "1719/1719 [==============================] - 5s 3ms/step - loss: 0.0173 - val_loss: 0.0169\n",
            "Epoch 3/20\n",
            "1719/1719 [==============================] - 6s 3ms/step - loss: 0.0164 - val_loss: 0.0161\n",
            "Epoch 4/20\n",
            "1719/1719 [==============================] - 5s 3ms/step - loss: 0.0158 - val_loss: 0.0157\n",
            "Epoch 5/20\n",
            "1719/1719 [==============================] - 10s 6ms/step - loss: 0.0154 - val_loss: 0.0154\n",
            "Epoch 6/20\n",
            "1719/1719 [==============================] - 5s 3ms/step - loss: 0.0151 - val_loss: 0.0151\n",
            "Epoch 7/20\n",
            "1719/1719 [==============================] - 6s 4ms/step - loss: 0.0150 - val_loss: 0.0150\n",
            "Epoch 8/20\n",
            "1719/1719 [==============================] - 5s 3ms/step - loss: 0.0148 - val_loss: 0.0151\n",
            "Epoch 9/20\n",
            "1719/1719 [==============================] - 7s 4ms/step - loss: 0.0147 - val_loss: 0.0148\n",
            "Epoch 10/20\n",
            "1719/1719 [==============================] - 5s 3ms/step - loss: 0.0146 - val_loss: 0.0147\n",
            "Epoch 11/20\n",
            "1719/1719 [==============================] - 6s 3ms/step - loss: 0.0145 - val_loss: 0.0147\n",
            "Epoch 12/20\n",
            "1719/1719 [==============================] - 5s 3ms/step - loss: 0.0144 - val_loss: 0.0146\n",
            "Epoch 13/20\n",
            "1719/1719 [==============================] - 7s 4ms/step - loss: 0.0144 - val_loss: 0.0146\n",
            "Epoch 14/20\n",
            "1719/1719 [==============================] - 6s 3ms/step - loss: 0.0143 - val_loss: 0.0145\n",
            "Epoch 15/20\n",
            "1719/1719 [==============================] - 7s 4ms/step - loss: 0.0142 - val_loss: 0.0145\n",
            "Epoch 16/20\n",
            "1719/1719 [==============================] - 8s 4ms/step - loss: 0.0142 - val_loss: 0.0144\n",
            "Epoch 17/20\n",
            "1719/1719 [==============================] - 6s 4ms/step - loss: 0.0141 - val_loss: 0.0143\n",
            "Epoch 18/20\n",
            "1719/1719 [==============================] - 7s 4ms/step - loss: 0.0141 - val_loss: 0.0143\n",
            "Epoch 19/20\n",
            "1719/1719 [==============================] - 6s 3ms/step - loss: 0.0140 - val_loss: 0.0142\n",
            "Epoch 20/20\n",
            "1719/1719 [==============================] - 6s 4ms/step - loss: 0.0140 - val_loss: 0.0141\n"
          ]
        }
      ],
      "source": [
        "# Stacked Autoencoder\n",
        "tf.random.set_seed(42) # Ensures reproducability on CPU\n",
        "\n",
        "stacked_encoder = tf.keras.Sequential([\n",
        "    tf.keras.layers.Flatten(),\n",
        "    tf.keras.layers.Dense(100, activation='relu'),\n",
        "    tf.keras.layers.Dense(30, activation='relu')\n",
        "])\n",
        "\n",
        "stacked_decoder = tf.keras.Sequential([\n",
        "    tf.keras.layers.Dense(100, activation='relu'),\n",
        "    tf.keras.layers.Dense(28 * 28),\n",
        "    tf.keras.layers.Reshape([28, 28])\n",
        "])\n",
        "\n",
        "stacked_ae = tf.keras.Sequential([stacked_encoder, stacked_decoder])\n",
        "\n",
        "# Compiling the Autoencoder\n",
        "stacked_ae.compile(loss='mse', optimizer='nadam')\n",
        "history = stacked_ae.fit(X_train, X_train, epochs=20, validation_data=(X_valid, X_valid))"
      ]
    },
    {
      "cell_type": "code",
      "execution_count": null,
      "metadata": {
        "id": "OaOu-Bm7Y9wA"
      },
      "outputs": [],
      "source": [
        "# Copied code from the book: plots original and reconstructed images from au\n",
        "def plot_reconstructions(model, images=X_valid, n_images=5):\n",
        "    reconstructions = np.clip(model.predict(images[:n_images]), 0, 1)\n",
        "    fig = plt.figure(figsize=(n_images * 1.5, 3))\n",
        "    for image_index in range(n_images):\n",
        "        plt.subplot(2, n_images, 1 + image_index)\n",
        "        plt.imshow(images[image_index], cmap=\"binary\")\n",
        "        plt.axis(\"off\")\n",
        "        plt.subplot(2, n_images, 1 + n_images + image_index)\n",
        "        plt.imshow(reconstructions[image_index], cmap=\"binary\")\n",
        "        plt.axis(\"off\")"
      ]
    },
    {
      "cell_type": "code",
      "execution_count": null,
      "metadata": {
        "colab": {
          "base_uri": "https://localhost:8080/",
          "height": 281
        },
        "id": "8mznwYm0ZHkt",
        "outputId": "9c8e7509-bdc9-4f5e-c9b4-5371ec85f3b1"
      },
      "outputs": [
        {
          "name": "stdout",
          "output_type": "stream",
          "text": [
            "1/1 [==============================] - 0s 73ms/step\n"
          ]
        },
        {
          "data": {
            "image/png": "[encoded data removed]",
            "text/plain": [
              "<Figure size 750x300 with 10 Axes>"
            ]
          },
          "metadata": {},
          "output_type": "display_data"
        }
      ],
      "source": [
        "# Reconstructing a few images to show what the stacked ae does\n",
        "plot_reconstructions(stacked_ae)\n",
        "plt.show()"
      ]
    },
    {
      "cell_type": "markdown",
      "metadata": {
        "id": "JjcFikcpLDZp"
      },
      "source": [
        "##Convolutional Autoencoder"
      ]
    },
    {
      "cell_type": "code",
      "execution_count": null,
      "metadata": {
        "colab": {
          "base_uri": "https://localhost:8080/"
        },
        "id": "k3QujjT8ZSoF",
        "outputId": "cdaadbed-b9a7-497b-8a65-54c96516d858"
      },
      "outputs": [
        {
          "name": "stdout",
          "output_type": "stream",
          "text": [
            "Epoch 1/10\n",
            "1719/1719 [==============================] - 36s 20ms/step - loss: 0.0294 - val_loss: 0.0205\n",
            "Epoch 2/10\n",
            "1719/1719 [==============================] - 38s 22ms/step - loss: 0.0186 - val_loss: 0.0173\n",
            "Epoch 3/10\n",
            "1719/1719 [==============================] - 35s 21ms/step - loss: 0.0165 - val_loss: 0.0158\n",
            "Epoch 4/10\n",
            "1719/1719 [==============================] - 35s 21ms/step - loss: 0.0152 - val_loss: 0.0152\n",
            "Epoch 5/10\n",
            "1719/1719 [==============================] - 38s 22ms/step - loss: 0.0144 - val_loss: 0.0141\n",
            "Epoch 6/10\n",
            "1719/1719 [==============================] - 33s 19ms/step - loss: 0.0138 - val_loss: 0.0136\n",
            "Epoch 7/10\n",
            "1719/1719 [==============================] - 33s 19ms/step - loss: 0.0133 - val_loss: 0.0132\n",
            "Epoch 8/10\n",
            "1719/1719 [==============================] - 36s 21ms/step - loss: 0.0129 - val_loss: 0.0142\n",
            "Epoch 9/10\n",
            "1719/1719 [==============================] - 37s 21ms/step - loss: 0.0126 - val_loss: 0.0126\n",
            "Epoch 10/10\n",
            "1719/1719 [==============================] - 34s 20ms/step - loss: 0.0123 - val_loss: 0.0122\n"
          ]
        }
      ],
      "source": [
        "# Convolutional Autoencoder\n",
        "tf.random.set_seed(42)\n",
        "\n",
        "# Encoder\n",
        "conv_encoder = tf.keras.Sequential([\n",
        "    tf.keras.layers.Reshape([28, 28, 1]),\n",
        "    tf.keras.layers.Conv2D(16, 3, padding=\"same\", activation=\"relu\"),\n",
        "    tf.keras.layers.MaxPool2D(pool_size=2),  # output: 14 × 14 x 16\n",
        "    tf.keras.layers.Conv2D(32, 3, padding=\"same\", activation=\"relu\"),\n",
        "    tf.keras.layers.MaxPool2D(pool_size=2),  # output: 7 × 7 x 32\n",
        "    tf.keras.layers.Conv2D(64, 3, padding=\"same\", activation=\"relu\"),\n",
        "    tf.keras.layers.MaxPool2D(pool_size=2),  # output: 3 × 3 x 64\n",
        "    tf.keras.layers.Conv2D(30, 3, padding=\"same\", activation=\"relu\"),\n",
        "    tf.keras.layers.GlobalAvgPool2D()  # output: 30\n",
        "])\n",
        "\n",
        "# Decoder\n",
        "conv_decoder = tf.keras.Sequential([\n",
        "    tf.keras.layers.Dense(3 * 3 * 16),\n",
        "    tf.keras.layers.Reshape((3, 3, 16)),\n",
        "    tf.keras.layers.Conv2DTranspose(32, 3, strides=2, activation=\"relu\"),\n",
        "    tf.keras.layers.Conv2DTranspose(16, 3, strides=2, padding=\"same\",\n",
        "                                    activation=\"relu\"),\n",
        "    tf.keras.layers.Conv2DTranspose(1, 3, strides=2, padding=\"same\"),\n",
        "    tf.keras.layers.Reshape([28, 28])\n",
        "])\n",
        "\n",
        "# Constructing the convolutional autoencoder\n",
        "conv_ae = tf.keras.Sequential([conv_encoder, conv_decoder])\n",
        "\n",
        "# Compiles and fits the model\n",
        "conv_ae.compile(loss=\"mse\", optimizer=\"nadam\")\n",
        "history = conv_ae.fit(X_train, X_train, epochs=10,\n",
        "                      validation_data=(X_valid, X_valid))"
      ]
    },
    {
      "cell_type": "code",
      "execution_count": null,
      "metadata": {
        "colab": {
          "base_uri": "https://localhost:8080/",
          "height": 281
        },
        "id": "NPXTKEnzaL0f",
        "outputId": "e37663a6-a7d8-4f12-e9e7-f87940a29c3e"
      },
      "outputs": [
        {
          "name": "stdout",
          "output_type": "stream",
          "text": [
            "1/1 [==============================] - 0s 130ms/step\n"
          ]
        },
        {
          "data": {
            "image/png": "[encoded data removed]",
            "text/plain": [
              "<Figure size 750x300 with 10 Axes>"
            ]
          },
          "metadata": {},
          "output_type": "display_data"
        }
      ],
      "source": [
        "plot_reconstructions(conv_ae)\n",
        "plt.show()"
      ]
    },
    {
      "cell_type": "markdown",
      "metadata": {
        "id": "ZpI97gIrLGJb"
      },
      "source": [
        "##Recurrent Autoencoder"
      ]
    },
    {
      "cell_type": "code",
      "execution_count": null,
      "metadata": {
        "colab": {
          "base_uri": "https://localhost:8080/"
        },
        "id": "2UEBI71XaQH1",
        "outputId": "632f8f36-9726-4a6d-bde5-fbb8e38b7947"
      },
      "outputs": [
        {
          "name": "stdout",
          "output_type": "stream",
          "text": [
            "Epoch 1/10\n",
            "1719/1719 [==============================] - 70s 37ms/step - loss: 0.0265 - val_loss: 0.0192\n",
            "Epoch 2/10\n",
            "1719/1719 [==============================] - 62s 36ms/step - loss: 0.0177 - val_loss: 0.0162\n",
            "Epoch 3/10\n",
            "1719/1719 [==============================] - 59s 35ms/step - loss: 0.0155 - val_loss: 0.0160\n",
            "Epoch 4/10\n",
            "1719/1719 [==============================] - 64s 38ms/step - loss: 0.0141 - val_loss: 0.0136\n",
            "Epoch 5/10\n",
            "1719/1719 [==============================] - 62s 36ms/step - loss: 0.0131 - val_loss: 0.0127\n",
            "Epoch 6/10\n",
            "1719/1719 [==============================] - 62s 36ms/step - loss: 0.0124 - val_loss: 0.0121\n",
            "Epoch 7/10\n",
            "1719/1719 [==============================] - 59s 34ms/step - loss: 0.0118 - val_loss: 0.0118\n",
            "Epoch 8/10\n",
            "1719/1719 [==============================] - 59s 34ms/step - loss: 0.0114 - val_loss: 0.0113\n",
            "Epoch 9/10\n",
            "1719/1719 [==============================] - 58s 34ms/step - loss: 0.0110 - val_loss: 0.0118\n",
            "Epoch 10/10\n",
            "1719/1719 [==============================] - 58s 34ms/step - loss: 0.0106 - val_loss: 0.0106\n"
          ]
        }
      ],
      "source": [
        "# Recurrent Autoencoders\n",
        "tf.random.set_seed(42)\n",
        "\n",
        "recurrent_encoder = tf.keras.Sequential([\n",
        "    tf.keras.layers.LSTM(100, return_sequences=True),\n",
        "    tf.keras.layers.LSTM(30)\n",
        "])\n",
        "\n",
        "recurrent_decoder = tf.keras.Sequential([\n",
        "    tf.keras.layers.RepeatVector(28),\n",
        "    tf.keras.layers.LSTM(100, return_sequences=True),\n",
        "    tf.keras.layers.Dense(28)\n",
        "])\n",
        "\n",
        "recurrent_ae = tf.keras.Sequential([recurrent_encoder, recurrent_decoder])\n",
        "recurrent_ae.compile(loss='mse', optimizer='nadam')\n",
        "\n",
        "history = recurrent_ae.fit(X_train, X_train, epochs = 10, validation_data = (X_valid, X_valid))"
      ]
    },
    {
      "cell_type": "code",
      "execution_count": null,
      "metadata": {
        "colab": {
          "base_uri": "https://localhost:8080/",
          "height": 281
        },
        "id": "QzQYhgNba_e-",
        "outputId": "79b447c3-f205-4d64-8ad2-31f36824ba9c"
      },
      "outputs": [
        {
          "name": "stdout",
          "output_type": "stream",
          "text": [
            "1/1 [==============================] - 1s 843ms/step\n"
          ]
        },
        {
          "data": {
            "image/png": "[encoded data removed]",
            "text/plain": [
              "<Figure size 750x300 with 10 Axes>"
            ]
          },
          "metadata": {},
          "output_type": "display_data"
        }
      ],
      "source": [
        "plot_reconstructions(recurrent_ae)\n",
        "plt.show()"
      ]
    },
    {
      "cell_type": "markdown",
      "metadata": {
        "id": "CzLSh2HtbjFs"
      },
      "source": [
        "#Autoencoders: MNIST Digits Classification\n",
        "`keras.datasets.mnist.load_data(path=\"mnist.npz\")`\n",
        "\n",
        "\n",
        "[source](https://keras.io/api/datasets/mnist/)"
      ]
    },
    {
      "cell_type": "code",
      "execution_count": null,
      "metadata": {
        "id": "HuzMfC_wbuj7"
      },
      "outputs": [],
      "source": [
        "# Load Digits MNIST dataset\n",
        "digits = tf.keras.datasets.mnist.load_data(path='mnist.npz')\n",
        "\n",
        "# Splitting and scaling the dataset\n",
        "(X_train_full2, y_train_full2), (X_test2, y_test2) = digits\n",
        "\n",
        "X_train_full2 = X_train_full2.astype(np.float32) / 255\n",
        "X_test2 = X_test2.astype(np.float32) / 255 # Why 255??\n",
        "\n",
        "X_train2, X_valid2 = X_train_full2[:-5000], X_train_full2[-5000:]\n",
        "y_train2, y_valid2 = y_train_full2[:-5000], y_train_full2[-5000:]"
      ]
    },
    {
      "cell_type": "code",
      "source": [
        "# Copied code from the book: plots original and reconstructed images from au\n",
        "def plot_reconstructions2(model, images=X_valid2, n_images=5):\n",
        "    reconstructions = np.clip(model.predict(images[:n_images]), 0, 1)\n",
        "    fig = plt.figure(figsize=(n_images * 1.5, 3))\n",
        "    for image_index in range(n_images):\n",
        "        plt.subplot(2, n_images, 1 + image_index)\n",
        "        plt.imshow(images[image_index], cmap=\"binary\")\n",
        "        plt.axis(\"off\")\n",
        "        plt.subplot(2, n_images, 1 + n_images + image_index)\n",
        "        plt.imshow(reconstructions[image_index], cmap=\"binary\")\n",
        "        plt.axis(\"off\")"
      ],
      "metadata": {
        "id": "SPpJm8siwnbP"
      },
      "execution_count": null,
      "outputs": []
    },
    {
      "cell_type": "markdown",
      "metadata": {
        "id": "Dwnr4BGcLQ1G"
      },
      "source": [
        "##Stacked Autoencoder"
      ]
    },
    {
      "cell_type": "code",
      "execution_count": null,
      "metadata": {
        "colab": {
          "base_uri": "https://localhost:8080/"
        },
        "id": "VoMOrVeZcM_f",
        "outputId": "5df2906c-8926-432d-d6dd-e279fe993b83"
      },
      "outputs": [
        {
          "output_type": "stream",
          "name": "stdout",
          "text": [
            "Epoch 1/20\n",
            "1719/1719 [==============================] - 7s 4ms/step - loss: 0.0304 - val_loss: 0.0249\n",
            "Epoch 2/20\n",
            "1719/1719 [==============================] - 6s 3ms/step - loss: 0.0236 - val_loss: 0.0221\n",
            "Epoch 3/20\n",
            "1719/1719 [==============================] - 6s 4ms/step - loss: 0.0215 - val_loss: 0.0208\n",
            "Epoch 4/20\n",
            "1719/1719 [==============================] - 6s 3ms/step - loss: 0.0204 - val_loss: 0.0200\n",
            "Epoch 5/20\n",
            "1719/1719 [==============================] - 6s 3ms/step - loss: 0.0198 - val_loss: 0.0194\n",
            "Epoch 6/20\n",
            "1719/1719 [==============================] - 6s 3ms/step - loss: 0.0193 - val_loss: 0.0190\n",
            "Epoch 7/20\n",
            "1719/1719 [==============================] - 6s 4ms/step - loss: 0.0190 - val_loss: 0.0188\n",
            "Epoch 8/20\n",
            "1719/1719 [==============================] - 6s 4ms/step - loss: 0.0187 - val_loss: 0.0184\n",
            "Epoch 9/20\n",
            "1719/1719 [==============================] - 6s 4ms/step - loss: 0.0184 - val_loss: 0.0182\n",
            "Epoch 10/20\n",
            "1719/1719 [==============================] - 6s 4ms/step - loss: 0.0182 - val_loss: 0.0181\n",
            "Epoch 11/20\n",
            "1719/1719 [==============================] - 6s 3ms/step - loss: 0.0179 - val_loss: 0.0176\n",
            "Epoch 12/20\n",
            "1719/1719 [==============================] - 6s 4ms/step - loss: 0.0175 - val_loss: 0.0174\n",
            "Epoch 13/20\n",
            "1719/1719 [==============================] - 6s 3ms/step - loss: 0.0173 - val_loss: 0.0172\n",
            "Epoch 14/20\n",
            "1719/1719 [==============================] - 6s 4ms/step - loss: 0.0172 - val_loss: 0.0171\n",
            "Epoch 15/20\n",
            "1719/1719 [==============================] - 6s 3ms/step - loss: 0.0171 - val_loss: 0.0170\n",
            "Epoch 16/20\n",
            "1719/1719 [==============================] - 6s 4ms/step - loss: 0.0170 - val_loss: 0.0169\n",
            "Epoch 17/20\n",
            "1719/1719 [==============================] - 5s 3ms/step - loss: 0.0169 - val_loss: 0.0168\n",
            "Epoch 18/20\n",
            "1719/1719 [==============================] - 6s 4ms/step - loss: 0.0168 - val_loss: 0.0167\n",
            "Epoch 19/20\n",
            "1719/1719 [==============================] - 6s 3ms/step - loss: 0.0168 - val_loss: 0.0166\n",
            "Epoch 20/20\n",
            "1719/1719 [==============================] - 7s 4ms/step - loss: 0.0167 - val_loss: 0.0166\n"
          ]
        }
      ],
      "source": [
        "# Stacked autoencoder\n",
        "tf.random.set_seed(42) # Ensures reproducability on CPU\n",
        "\n",
        "stacked_encoder2 = tf.keras.Sequential([\n",
        "    tf.keras.layers.Flatten(),\n",
        "    tf.keras.layers.Dense(100, activation='relu'),\n",
        "    tf.keras.layers.Dense(30, activation='relu')\n",
        "])\n",
        "\n",
        "stacked_decoder2 = tf.keras.Sequential([\n",
        "    tf.keras.layers.Dense(100, activation='relu'),\n",
        "    tf.keras.layers.Dense(28 * 28),\n",
        "    tf.keras.layers.Reshape([28, 28])\n",
        "])\n",
        "\n",
        "stacked_ae2 = tf.keras.Sequential([stacked_encoder2, stacked_decoder2])\n",
        "\n",
        "# Compiling the Autoencoder\n",
        "stacked_ae2.compile(loss='mse', optimizer='nadam')\n",
        "\n",
        "# Numbers Stacked Autoencoder\n",
        "sae_history = stacked_ae2.fit(X_train2, X_train2, epochs=20, validation_data=(X_valid2, X_valid2))"
      ]
    },
    {
      "cell_type": "code",
      "execution_count": null,
      "metadata": {
        "colab": {
          "base_uri": "https://localhost:8080/",
          "height": 281
        },
        "id": "BCPZ_EYecnK9",
        "outputId": "67b5f58a-6a55-49f2-c199-48880a592ed7"
      },
      "outputs": [
        {
          "output_type": "stream",
          "name": "stdout",
          "text": [
            "1/1 [==============================] - 0s 15ms/step\n"
          ]
        },
        {
          "output_type": "display_data",
          "data": {
            "text/plain": [
              "<Figure size 750x300 with 10 Axes>"
            ],
            "image/png": "[encoded data removed]"
          },
          "metadata": {}
        }
      ],
      "source": [
        "plot_reconstructions2(stacked_ae2)\n",
        "plt.show()"
      ]
    },
    {
      "cell_type": "markdown",
      "metadata": {
        "id": "QrMCHb6CLSvN"
      },
      "source": [
        "##Convolutional autoencoder"
      ]
    },
    {
      "cell_type": "code",
      "execution_count": null,
      "metadata": {
        "id": "kFrmS1zFcVqL",
        "colab": {
          "base_uri": "https://localhost:8080/"
        },
        "outputId": "9f8115f3-f25d-4c71-a609-51a84a84091d"
      },
      "outputs": [
        {
          "output_type": "stream",
          "name": "stdout",
          "text": [
            "Epoch 1/10\n",
            "1719/1719 [==============================] - 42s 23ms/step - loss: 0.0305 - val_loss: 0.0187\n",
            "Epoch 2/10\n",
            "1719/1719 [==============================] - 33s 19ms/step - loss: 0.0160 - val_loss: 0.0141\n",
            "Epoch 3/10\n",
            "1719/1719 [==============================] - 34s 20ms/step - loss: 0.0130 - val_loss: 0.0126\n",
            "Epoch 4/10\n",
            "1719/1719 [==============================] - 33s 19ms/step - loss: 0.0113 - val_loss: 0.0110\n",
            "Epoch 5/10\n",
            "1719/1719 [==============================] - 33s 19ms/step - loss: 0.0102 - val_loss: 0.0100\n",
            "Epoch 6/10\n",
            "1719/1719 [==============================] - 33s 19ms/step - loss: 0.0095 - val_loss: 0.0094\n",
            "Epoch 7/10\n",
            "1719/1719 [==============================] - 33s 19ms/step - loss: 0.0090 - val_loss: 0.0091\n",
            "Epoch 8/10\n",
            "1719/1719 [==============================] - 33s 19ms/step - loss: 0.0085 - val_loss: 0.0085\n",
            "Epoch 9/10\n",
            "1719/1719 [==============================] - 33s 19ms/step - loss: 0.0082 - val_loss: 0.0082\n",
            "Epoch 10/10\n",
            "1719/1719 [==============================] - 33s 19ms/step - loss: 0.0079 - val_loss: 0.0077\n"
          ]
        }
      ],
      "source": [
        "# Convolutional autoencoder\n",
        "tf.random.set_seed(42)\n",
        "\n",
        "# Encoder\n",
        "conv_encoder2 = tf.keras.Sequential([\n",
        "    tf.keras.layers.Reshape([28, 28, 1]),\n",
        "    tf.keras.layers.Conv2D(16, 3, padding=\"same\", activation=\"relu\"),\n",
        "    tf.keras.layers.MaxPool2D(pool_size=2),  # output: 14 × 14 x 16\n",
        "    tf.keras.layers.Conv2D(32, 3, padding=\"same\", activation=\"relu\"),\n",
        "    tf.keras.layers.MaxPool2D(pool_size=2),  # output: 7 × 7 x 32\n",
        "    tf.keras.layers.Conv2D(64, 3, padding=\"same\", activation=\"relu\"),\n",
        "    tf.keras.layers.MaxPool2D(pool_size=2),  # output: 3 × 3 x 64\n",
        "    tf.keras.layers.Conv2D(30, 3, padding=\"same\", activation=\"relu\"),\n",
        "    tf.keras.layers.GlobalAvgPool2D()  # output: 30\n",
        "])\n",
        "\n",
        "# Decoder\n",
        "conv_decoder2 = tf.keras.Sequential([\n",
        "    tf.keras.layers.Dense(3 * 3 * 16),\n",
        "    tf.keras.layers.Reshape((3, 3, 16)),\n",
        "    tf.keras.layers.Conv2DTranspose(32, 3, strides=2, activation=\"relu\"),\n",
        "    tf.keras.layers.Conv2DTranspose(16, 3, strides=2, padding=\"same\",\n",
        "                                    activation=\"relu\"),\n",
        "    tf.keras.layers.Conv2DTranspose(1, 3, strides=2, padding=\"same\"),\n",
        "    tf.keras.layers.Reshape([28, 28])\n",
        "])\n",
        "\n",
        "# Constructing the convolutional autoencoder\n",
        "conv_ae2 = tf.keras.Sequential([conv_encoder2, conv_decoder2])\n",
        "\n",
        "# Compiles and fits the model\n",
        "conv_ae2.compile(loss=\"mse\", optimizer=\"nadam\")\n",
        "\n",
        "# Numbers Convolutional Autoencoder\n",
        "cae_history = conv_ae2.fit(X_train2, X_train2, epochs=10,\n",
        "                      validation_data=(X_valid2, X_valid2))"
      ]
    },
    {
      "cell_type": "code",
      "execution_count": null,
      "metadata": {
        "id": "rWSNyrGScpcb",
        "colab": {
          "base_uri": "https://localhost:8080/",
          "height": 320
        },
        "outputId": "91f47d0d-f275-47cb-8c08-009a271c4973"
      },
      "outputs": [
        {
          "output_type": "stream",
          "name": "stderr",
          "text": [
            "WARNING:tensorflow:5 out of the last 9 calls to <function Model.make_predict_function.<locals>.predict_function at 0x78d7444453f0> triggered tf.function retracing. Tracing is expensive and the excessive number of tracings could be due to (1) creating @tf.function repeatedly in a loop, (2) passing tensors with different shapes, (3) passing Python objects instead of tensors. For (1), please define your @tf.function outside of the loop. For (2), @tf.function has reduce_retracing=True option that can avoid unnecessary retracing. For (3), please refer to https://www.tensorflow.org/guide/function#controlling_retracing and https://www.tensorflow.org/api_docs/python/tf/function for  more details.\n"
          ]
        },
        {
          "output_type": "stream",
          "name": "stdout",
          "text": [
            "1/1 [==============================] - 0s 176ms/step\n"
          ]
        },
        {
          "output_type": "display_data",
          "data": {
            "text/plain": [
              "<Figure size 750x300 with 10 Axes>"
            ],
            "image/png": "[encoded data removed]"
          },
          "metadata": {}
        }
      ],
      "source": [
        "plot_reconstructions2(conv_ae2)\n",
        "plt.show()"
      ]
    },
    {
      "cell_type": "markdown",
      "metadata": {
        "id": "W-y3mHBrLVlB"
      },
      "source": [
        "##Recurrent Autoencoder"
      ]
    },
    {
      "cell_type": "code",
      "execution_count": null,
      "metadata": {
        "id": "FjUBQ0YQceQk",
        "colab": {
          "base_uri": "https://localhost:8080/"
        },
        "outputId": "eb49993b-6afb-4aea-ba14-04a7ec2276af"
      },
      "outputs": [
        {
          "output_type": "stream",
          "name": "stdout",
          "text": [
            "Epoch 1/10\n",
            "1719/1719 [==============================] - 65s 34ms/step - loss: 0.0334 - val_loss: 0.0218\n",
            "Epoch 2/10\n",
            "1719/1719 [==============================] - 58s 34ms/step - loss: 0.0186 - val_loss: 0.0181\n",
            "Epoch 3/10\n",
            "1719/1719 [==============================] - 59s 34ms/step - loss: 0.0144 - val_loss: 0.0130\n",
            "Epoch 4/10\n",
            "1719/1719 [==============================] - 57s 33ms/step - loss: 0.0121 - val_loss: 0.0113\n",
            "Epoch 5/10\n",
            "1719/1719 [==============================] - 57s 33ms/step - loss: 0.0107 - val_loss: 0.0117\n",
            "Epoch 6/10\n",
            "1719/1719 [==============================] - 57s 33ms/step - loss: 0.0097 - val_loss: 0.0092\n",
            "Epoch 7/10\n",
            "1719/1719 [==============================] - 58s 34ms/step - loss: 0.0089 - val_loss: 0.0086\n",
            "Epoch 8/10\n",
            "1719/1719 [==============================] - 58s 34ms/step - loss: 0.0083 - val_loss: 0.0080\n",
            "Epoch 9/10\n",
            "1719/1719 [==============================] - 57s 33ms/step - loss: 0.0077 - val_loss: 0.0077\n",
            "Epoch 10/10\n",
            "1719/1719 [==============================] - 58s 34ms/step - loss: 0.0073 - val_loss: 0.0069\n"
          ]
        }
      ],
      "source": [
        "# Recurrent autoencoder\n",
        "tf.random.set_seed(42)\n",
        "\n",
        "recurrent_encoder2 = tf.keras.Sequential([\n",
        "    tf.keras.layers.LSTM(100, return_sequences=True),\n",
        "    tf.keras.layers.LSTM(30)\n",
        "])\n",
        "\n",
        "recurrent_decoder2 = tf.keras.Sequential([\n",
        "    tf.keras.layers.RepeatVector(28),\n",
        "    tf.keras.layers.LSTM(100, return_sequences=True),\n",
        "    tf.keras.layers.Dense(28)\n",
        "])\n",
        "\n",
        "recurrent_ae2 = tf.keras.Sequential([recurrent_encoder2, recurrent_decoder2])\n",
        "recurrent_ae2.compile(loss='mse', optimizer='nadam')\n",
        "\n",
        "rae_history = recurrent_ae2.fit(X_train2, X_train2, epochs = 10, validation_data = (X_valid2, X_valid2))"
      ]
    },
    {
      "cell_type": "code",
      "execution_count": null,
      "metadata": {
        "id": "VSo65DIAc8ms",
        "colab": {
          "base_uri": "https://localhost:8080/",
          "height": 320
        },
        "outputId": "d65fa7ed-1825-4e74-f0c4-efe875865843"
      },
      "outputs": [
        {
          "output_type": "stream",
          "name": "stderr",
          "text": [
            "WARNING:tensorflow:6 out of the last 10 calls to <function Model.make_predict_function.<locals>.predict_function at 0x78d74b203640> triggered tf.function retracing. Tracing is expensive and the excessive number of tracings could be due to (1) creating @tf.function repeatedly in a loop, (2) passing tensors with different shapes, (3) passing Python objects instead of tensors. For (1), please define your @tf.function outside of the loop. For (2), @tf.function has reduce_retracing=True option that can avoid unnecessary retracing. For (3), please refer to https://www.tensorflow.org/guide/function#controlling_retracing and https://www.tensorflow.org/api_docs/python/tf/function for  more details.\n"
          ]
        },
        {
          "output_type": "stream",
          "name": "stdout",
          "text": [
            "1/1 [==============================] - 1s 797ms/step\n"
          ]
        },
        {
          "output_type": "display_data",
          "data": {
            "text/plain": [
              "<Figure size 750x300 with 10 Axes>"
            ],
            "image/png": "[encoded data removed]"
          },
          "metadata": {}
        }
      ],
      "source": [
        "plot_reconstructions2(recurrent_ae2)\n",
        "plt.show()"
      ]
    },
    {
      "cell_type": "markdown",
      "metadata": {
        "id": "LOqMAzpAK4WP"
      },
      "source": [
        "# Discussion\n",
        "\n",
        "What is an autoencoder?\n",
        "-> An autoencoder is an articial neural network\n",
        "  - Used with unsupervised learning\n",
        "  - Learns efficient representations of input data\n",
        "    - Uses dimention reduction\n",
        "(ChatGPT helped me learn)\n",
        "  - Compiles the encoder and decoder to create a history and codings output\n",
        "\n",
        "- Here, the first row of images is the origional, and the second row is the reconstructions\n",
        "\n",
        "##Stacked Autoencoder\n",
        "- More neurons, more layers\n",
        "- Use with fraud detection\n",
        "\n",
        "##Convolutional Autoencoder\n",
        "- Like a puzzle, looks at small parts of puzzle to understand larger picture\n",
        "- Use with facial recognition\n",
        "\n",
        "##Recurrent Autoencoder\n",
        "- Can process time-series data, data with differing lengths\n",
        "- Used for text generation, speech recognition\n",
        "- Representing sequential data (ChatGPT helped)"
      ]
    },
    {
      "cell_type": "markdown",
      "metadata": {
        "id": "gnA9ACIBPvJ8"
      },
      "source": [
        "1. Discuss how effective was auto encoders in generating images:\n",
        "  - In the fashion dataset, the stacked, convolutional, and recurrent autoencoder results are indistiguishable, but the 'original' data is changed slightly\n",
        "    - I'd say the convolutional autocoder did best with this data; the images produced seem to be the most detailed and close to the originals.\n",
        "  - In the digits dataset, again it seems like the bottom row of data changes slightly, but the top row remains practically the same.\n",
        "    - I would say the recurrent autoencoder did best, since the numbers produced are the most clear\n",
        "\n",
        "2. Discuss how you can improve the architecture for better image generation:\n",
        "  - I think the main thing is to choose the appropriate autoencoder for each task.\n",
        "  - For image generation, it depends on what you want to generate\n",
        "    - It makes sense that the convolutional autoencoder does best with the fashion dataset, since the convolutional model looks at small parts of the image and learns to apply it to the big picture\n",
        "    - For the digit dataset, I would think the convolutional would also work better, but maybe because the recurrent is used more with numbers, it works better?\n",
        "      - We could try more layers, more neurons, but we don't want to overfit the data, so it would depend on what the outputs do."
      ]
    }
  ],
  "metadata": {
    "colab": {
      "provenance": []
    },
    "kernelspec": {
      "display_name": "Python 3",
      "name": "python3"
    },
    "language_info": {
      "name": "python"
    }
  },
  "nbformat": 4,
  "nbformat_minor": 0
}